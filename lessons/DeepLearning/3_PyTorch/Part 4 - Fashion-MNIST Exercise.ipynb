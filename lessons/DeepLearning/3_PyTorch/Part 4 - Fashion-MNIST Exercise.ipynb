{
 "cells": [
  {
   "cell_type": "markdown",
   "metadata": {},
   "source": [
    "# Classifying Fashion-MNIST\n",
    "\n",
    "Now it's your turn to build and train a neural network. You'll be using the [Fashion-MNIST dataset](https://github.com/zalandoresearch/fashion-mnist), a drop-in replacement for the MNIST dataset. MNIST is actually quite trivial with neural networks where you can easily achieve better than 97% accuracy. Fashion-MNIST is a set of 28x28 greyscale images of clothes. It's more complex than MNIST, so it's a better representation of the actual performance of your network, and a better representation of datasets you'll use in the real world.\n",
    "\n",
    "<img src='assets/fashion-mnist-sprite.png' width=500px>\n",
    "\n",
    "In this notebook, you'll build your own neural network. For the most part, you could just copy and paste the code from Part 3, but you wouldn't be learning. It's important for you to write the code yourself and get it to work. Feel free to consult the previous notebook though as you work through this.\n",
    "\n",
    "First off, let's load the dataset through torchvision."
   ]
  },
  {
   "cell_type": "code",
   "execution_count": 3,
   "metadata": {},
   "outputs": [],
   "source": [
    "import torch\n",
    "from torchvision import datasets, transforms\n",
    "import helper\n",
    "\n",
    "# Define a transform to normalize the data\n",
    "transform = transforms.Compose([transforms.ToTensor(),\n",
    "                                transforms.Normalize([0.5], [0.5])])\n",
    "# Download and load the training data\n",
    "trainset = datasets.FashionMNIST('F_MNIST_data/', download=True, train=True, transform=transform)\n",
    "trainloader = torch.utils.data.DataLoader(trainset, batch_size=64, shuffle=True)\n",
    "\n",
    "# Download and load the test data\n",
    "testset = datasets.FashionMNIST('F_MNIST_data/', download=True, train=False, transform=transform)\n",
    "testloader = torch.utils.data.DataLoader(testset, batch_size=64, shuffle=True)"
   ]
  },
  {
   "cell_type": "markdown",
   "metadata": {},
   "source": [
    "Here we can see one of the images."
   ]
  },
  {
   "cell_type": "code",
   "execution_count": 4,
   "metadata": {},
   "outputs": [
    {
     "data": {
      "image/png": "[encoded data removed]",
      "text/plain": [
       "<Figure size 432x288 with 1 Axes>"
      ]
     },
     "metadata": {
      "needs_background": "light"
     },
     "output_type": "display_data"
    }
   ],
   "source": [
    "image, label = next(iter(trainloader))\n",
    "helper.imshow(image[0,:]);"
   ]
  },
  {
   "cell_type": "markdown",
   "metadata": {},
   "source": [
    "With the data loaded, it's time to import the necessary packages."
   ]
  },
  {
   "cell_type": "code",
   "execution_count": 7,
   "metadata": {},
   "outputs": [],
   "source": [
    "%matplotlib inline\n",
    "%config InlineBackend.figure_format = 'retina'\n",
    "\n",
    "import matplotlib.pyplot as plt\n",
    "import numpy as np\n",
    "import time\n",
    "\n",
    "import torch\n",
    "from torch import nn\n",
    "from torch import optim\n",
    "import torch.nn.functional as F\n",
    "from torchvision import datasets, transforms\n",
    "from collections import OrderedDict\n",
    "\n",
    "import helper"
   ]
  },
  {
   "cell_type": "markdown",
   "metadata": {},
   "source": [
    "## Building the network\n",
    "\n",
    "Here you should define your network. As with MNIST, each image is 28x28 which is a total of 784 pixels, and there are 10 classes. You should include at least one hidden layer. We suggest you use ReLU activations for the layers and to return the logits from the forward pass. It's up to you how many layers you add and the size of those layers."
   ]
  },
  {
   "cell_type": "code",
   "execution_count": 13,
   "metadata": {},
   "outputs": [],
   "source": [
    "# Define your network architecture here\n",
    "\n",
    "model = nn.Sequential(OrderedDict([\n",
    "                      ('fc1', nn.Linear(784, 256)),\n",
    "                      ('relu1', nn.ReLU()),\n",
    "                      ('fc2', nn.Linear(256, 64)),\n",
    "                      ('relu2', nn.ReLU()),\n",
    "                      ('logits', nn.Linear(64, 10))]))\n"
   ]
  },
  {
   "cell_type": "markdown",
   "metadata": {},
   "source": [
    "# Train the network\n",
    "\n",
    "Now you should create your network and train it. First you'll want to define [the criterion](http://pytorch.org/docs/master/nn.html#loss-functions) ( something like `nn.CrossEntropyLoss`) and [the optimizer](http://pytorch.org/docs/master/optim.html) (typically `optim.SGD` or `optim.Adam`).\n",
    "\n",
    "Then write the training code. Remember the training pass is a fairly straightforward process:\n",
    "\n",
    "* Make a forward pass through the network to get the logits \n",
    "* Use the logits to calculate the loss\n",
    "* Perform a backward pass through the network with `loss.backward()` to calculate the gradients\n",
    "* Take a step with the optimizer to update the weights\n",
    "\n",
    "By adjusting the hyperparameters (hidden units, learning rate, etc), you should be able to get the training loss below 0.4."
   ]
  },
  {
   "cell_type": "code",
   "execution_count": 14,
   "metadata": {},
   "outputs": [],
   "source": [
    "# Create the network, define the criterion and optimizer\n",
    "\n",
    "criterion = nn.CrossEntropyLoss()\n",
    "optimizer = optim.Adam(model.parameters(), lr=0.01)"
   ]
  },
  {
   "cell_type": "code",
   "execution_count": 17,
   "metadata": {},
   "outputs": [
    {
     "name": "stdout",
     "output_type": "stream",
     "text": [
      "Epoch: 1/3...  Loss: 0.7377\n",
      "Epoch: 1/3...  Loss: 0.6267\n",
      "Epoch: 1/3...  Loss: 0.6368\n",
      "Epoch: 1/3...  Loss: 0.6072\n",
      "Epoch: 1/3...  Loss: 0.5359\n",
      "Epoch: 1/3...  Loss: 0.5517\n",
      "Epoch: 1/3...  Loss: 0.5651\n",
      "Epoch: 1/3...  Loss: 0.5455\n",
      "Epoch: 1/3...  Loss: 0.5459\n",
      "Epoch: 1/3...  Loss: 0.4973\n",
      "Epoch: 1/3...  Loss: 0.4948\n",
      "Epoch: 1/3...  Loss: 0.4833\n",
      "Epoch: 1/3...  Loss: 0.4926\n",
      "Epoch: 1/3...  Loss: 0.4918\n",
      "Epoch: 1/3...  Loss: 0.4857\n",
      "Epoch: 1/3...  Loss: 0.4560\n",
      "Epoch: 1/3...  Loss: 0.5129\n",
      "Epoch: 1/3...  Loss: 0.5015\n",
      "Epoch: 1/3...  Loss: 0.4368\n",
      "Epoch: 1/3...  Loss: 0.4310\n",
      "Epoch: 1/3...  Loss: 0.4966\n",
      "Epoch: 1/3...  Loss: 0.4718\n",
      "Epoch: 1/3...  Loss: 0.4920\n",
      "Epoch: 2/3...  Loss: 0.2330\n",
      "Epoch: 2/3...  Loss: 0.4676\n",
      "Epoch: 2/3...  Loss: 0.4434\n",
      "Epoch: 2/3...  Loss: 0.4288\n",
      "Epoch: 2/3...  Loss: 0.4490\n",
      "Epoch: 2/3...  Loss: 0.4263\n",
      "Epoch: 2/3...  Loss: 0.4309\n",
      "Epoch: 2/3...  Loss: 0.4377\n",
      "Epoch: 2/3...  Loss: 0.4576\n",
      "Epoch: 2/3...  Loss: 0.4352\n",
      "Epoch: 2/3...  Loss: 0.4614\n",
      "Epoch: 2/3...  Loss: 0.4611\n",
      "Epoch: 2/3...  Loss: 0.4963\n",
      "Epoch: 2/3...  Loss: 0.4442\n",
      "Epoch: 2/3...  Loss: 0.4571\n",
      "Epoch: 2/3...  Loss: 0.4807\n",
      "Epoch: 2/3...  Loss: 0.4672\n",
      "Epoch: 2/3...  Loss: 0.4262\n",
      "Epoch: 2/3...  Loss: 0.4406\n",
      "Epoch: 2/3...  Loss: 0.4305\n",
      "Epoch: 2/3...  Loss: 0.4599\n",
      "Epoch: 2/3...  Loss: 0.4681\n",
      "Epoch: 2/3...  Loss: 0.4610\n",
      "Epoch: 3/3...  Loss: 0.0553\n",
      "Epoch: 3/3...  Loss: 0.4180\n",
      "Epoch: 3/3...  Loss: 0.4014\n",
      "Epoch: 3/3...  Loss: 0.3912\n",
      "Epoch: 3/3...  Loss: 0.4183\n",
      "Epoch: 3/3...  Loss: 0.4228\n",
      "Epoch: 3/3...  Loss: 0.4329\n",
      "Epoch: 3/3...  Loss: 0.4384\n",
      "Epoch: 3/3...  Loss: 0.4545\n",
      "Epoch: 3/3...  Loss: 0.3940\n",
      "Epoch: 3/3...  Loss: 0.3966\n",
      "Epoch: 3/3...  Loss: 0.4221\n",
      "Epoch: 3/3...  Loss: 0.4523\n",
      "Epoch: 3/3...  Loss: 0.4206\n",
      "Epoch: 3/3...  Loss: 0.4566\n",
      "Epoch: 3/3...  Loss: 0.4248\n",
      "Epoch: 3/3...  Loss: 0.4121\n",
      "Epoch: 3/3...  Loss: 0.4055\n",
      "Epoch: 3/3...  Loss: 0.4348\n",
      "Epoch: 3/3...  Loss: 0.4277\n",
      "Epoch: 3/3...  Loss: 0.4108\n",
      "Epoch: 3/3...  Loss: 0.3963\n",
      "Epoch: 3/3...  Loss: 0.3950\n",
      "Epoch: 3/3...  Loss: 0.4264\n"
     ]
    }
   ],
   "source": [
    "# Train the network here\n",
    "\n",
    "steps = 0\n",
    "print_every = 40\n",
    "epochs = 3\n",
    "\n",
    "for e in range(epochs):\n",
    "    running_loss = 0\n",
    "    for images, labels in iter(trainloader):\n",
    "        steps += 1\n",
    "        \n",
    "        images.resize_(images.size()[0], 784)\n",
    "        \n",
    "        output = model(images)\n",
    "        loss = criterion(output, labels)\n",
    "        \n",
    "        optimizer.zero_grad()\n",
    "        loss.backward()\n",
    "        optimizer.step()\n",
    "        \n",
    "        running_loss += loss.item()\n",
    "        \n",
    "        if steps % print_every == 0 :\n",
    "            print(\"Epoch: {}/{}... \".format(e+1, epochs),\n",
    "                  \"Loss: {:.4f}\".format(running_loss/print_every))\n",
    "            \n",
    "            running_loss = 0\n",
    "        "
   ]
  },
  {
   "cell_type": "code",
   "execution_count": 18,
   "metadata": {},
   "outputs": [
    {
     "data": {
      "image/png": "[encoded data removed]",
      "text/plain": [
       "<Figure size 432x648 with 2 Axes>"
      ]
     },
     "metadata": {
      "image/png": {
       "height": 216,
       "width": 424
      },
      "needs_background": "light"
     },
     "output_type": "display_data"
    }
   ],
   "source": [
    "# Test out your network!\n",
    "\n",
    "dataiter = iter(testloader)\n",
    "images, labels = dataiter.next()\n",
    "img = images[0]\n",
    "# Convert 2D image to 1D vector\n",
    "img = img.resize_(1, 784)\n",
    "\n",
    "# Calculate the class probabilities (softmax) for img\n",
    "with torch.no_grad():\n",
    "    logits = model.forward(img)\n",
    "ps = F.softmax(logits, dim=1)\n",
    "\n",
    "# Plot the image and probabilities\n",
    "helper.view_classify(img.resize_(1, 28, 28), ps, version='Fashion')"
   ]
  },
  {
   "cell_type": "markdown",
   "metadata": {},
   "source": [
    "Now that your network is trained, you'll want to save it to disk so you can load it later instead of training it again. Obviously, it's impractical to train a network every time you need one. In practice, you'll train it once, save the model, then reload it for further training or making predictions. In the next part, I'll show you how to save and load trained models."
   ]
  }
 ],
 "metadata": {
  "kernelspec": {
   "display_name": "Python 3",
   "language": "python",
   "name": "python3"
  },
  "language_info": {
   "codemirror_mode": {
    "name": "ipython",
    "version": 3
   },
   "file_extension": ".py",
   "mimetype": "text/x-python",
   "name": "python",
   "nbconvert_exporter": "python",
   "pygments_lexer": "ipython3",
   "version": "3.7.6"
  }
 },
 "nbformat": 4,
 "nbformat_minor": 2
}
